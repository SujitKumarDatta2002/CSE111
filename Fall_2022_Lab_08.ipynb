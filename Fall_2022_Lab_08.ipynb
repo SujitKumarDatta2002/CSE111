{
 "cells": [
  {
   "attachments": {},
   "cell_type": "markdown",
   "metadata": {},
   "source": [
    "**Task 01**"
   ]
  },
  {
   "cell_type": "code",
   "execution_count": 9,
   "metadata": {},
   "outputs": [
    {
     "name": "stdout",
     "output_type": "stream",
     "text": [
      "RealPart: 1.0 \n",
      "ImaginaryPart: 1.0\n",
      "---------\n",
      "RealPart: 5.0 \n",
      "ImaginaryPart: 7.0\n"
     ]
    }
   ],
   "source": [
    "class RealNumber:\n",
    "    \n",
    "    def __init__(self, r=0):\n",
    "        self.__realValue = r  \n",
    "    def getRealValue(self):\n",
    "        return self.__realValue\n",
    "    def setRealValue(self, r):\n",
    "        self.__realValue = r\n",
    "    def __str__(self):\n",
    "        return 'RealPart: '+str(self.getRealValue())    \n",
    "    \n",
    "# My codes start from here\n",
    "\n",
    "class ComplexNumber(RealNumber):\n",
    "    def __init__(self, num1=1, num2=1) -> None:\n",
    "        self.num1 = num1\n",
    "        self.num2 = num2\n",
    "        super().__init__(num1)\n",
    "        # print(f\"ImaginaryPart: {float(self.num2)}\")\n",
    "\n",
    "    def __str__(self):\n",
    "        return f\"RealPart: {float(self.getRealValue())} \\nImaginaryPart: {float(self.num2)}\"\n",
    "\n",
    "cn1 = ComplexNumber()\n",
    "print(cn1)\n",
    "print('---------')\n",
    "cn2 = ComplexNumber(5,7)\n",
    "print(cn2)"
   ]
  },
  {
   "attachments": {},
   "cell_type": "markdown",
   "metadata": {},
   "source": [
    "**Task 02**"
   ]
  },
  {
   "cell_type": "code",
   "execution_count": 22,
   "metadata": {},
   "outputs": [
    {
     "name": "stdout",
     "output_type": "stream",
     "text": [
      "8\n",
      "2  + 1i\n",
      "3  + 5i\n",
      "5  + 6i\n",
      "-1-4i\n"
     ]
    }
   ],
   "source": [
    "class RealNumber:\n",
    "    def __init__(self, number=0):\n",
    "        self.number = number\n",
    "\n",
    "    def __add__(self, anotherRealNumber):\n",
    "        return self.number + anotherRealNumber.number\n",
    "    \n",
    "    def __sub__(self, anotherRealNumber):\n",
    "        return self.number - anotherRealNumber.number\n",
    "    \n",
    "    def __str__(self):\n",
    "        return str(self.number)\n",
    "    \n",
    "# My codes start from here\n",
    "\n",
    "class ComplexNumber(RealNumber):\n",
    "    def __init__(self, num1, num2):\n",
    "        self.num1 = num1\n",
    "        self.num2 = num2\n",
    "\n",
    "        if type(num1) == int:\n",
    "            super().__init__(num1)\n",
    "        else:\n",
    "            super().__init__(num1.number)\n",
    "\n",
    "    def __add__(self, anotherRealNumber):\n",
    "        real = self.number + anotherRealNumber.number\n",
    "        imaginary = self.num2 + anotherRealNumber.num2\n",
    "        return ComplexNumber(real, imaginary)\n",
    "\n",
    "    def __sub__(self, anotherRealNumber):\n",
    "        real = self.number - anotherRealNumber.number\n",
    "        imaginary = self.num2 - anotherRealNumber.num2\n",
    "        return ComplexNumber(real, imaginary)\n",
    "        \n",
    "    def __str__(self):\n",
    "        if self.num2<0:\n",
    "            return f\"{str(self.number) + str(self.num2)}i\"\n",
    "        else:\n",
    "            return f\"{self.number}  + {self.num2}i\"\n",
    "    \n",
    "r1 = RealNumber(3)\n",
    "r2 = RealNumber(5)\n",
    "print(r1+r2)\n",
    "cn1 = ComplexNumber(2, 1)\n",
    "print(cn1)\n",
    "cn2 = ComplexNumber(r1, 5)\n",
    "print(cn2)\n",
    "cn3 = cn1 + cn2\n",
    "print(cn3)\n",
    "cn4 = cn1 - cn2\n",
    "print(cn4)\n"
   ]
  },
  {
   "attachments": {},
   "cell_type": "markdown",
   "metadata": {},
   "source": [
    "**Task 03**\n"
   ]
  },
  {
   "cell_type": "code",
   "execution_count": null,
   "metadata": {},
   "outputs": [],
   "source": [
    "class Account: \n",
    "    def __init__(self, balance):\n",
    "        self._balance = balance\n",
    "        \n",
    "    def getBalance(self):\n",
    "        return self._balance\n",
    "    \n",
    "\n",
    "# My codes start from here\n",
    "\n",
    "\n",
    "print('Number of Checking Accounts: ', CheckingAccount.numberOfAccount)\n",
    "print(CheckingAccount())\n",
    "print(CheckingAccount(100.00))\n",
    "print(CheckingAccount(200.00))\n",
    "print('Number of Checking Accounts: ', CheckingAccount.numberOfAccount)"
   ]
  },
  {
   "attachments": {},
   "cell_type": "markdown",
   "metadata": {},
   "source": [
    "**Task 04**\n"
   ]
  },
  {
   "cell_type": "code",
   "execution_count": null,
   "metadata": {},
   "outputs": [],
   "source": []
  },
  {
   "attachments": {},
   "cell_type": "markdown",
   "metadata": {},
   "source": [
    "**Task 05**"
   ]
  },
  {
   "cell_type": "code",
   "execution_count": null,
   "metadata": {},
   "outputs": [],
   "source": []
  },
  {
   "attachments": {},
   "cell_type": "markdown",
   "metadata": {},
   "source": [
    "**Task 06**"
   ]
  },
  {
   "cell_type": "code",
   "execution_count": null,
   "metadata": {},
   "outputs": [],
   "source": []
  },
  {
   "attachments": {},
   "cell_type": "markdown",
   "metadata": {},
   "source": [
    "**Task 07**\n"
   ]
  },
  {
   "cell_type": "code",
   "execution_count": null,
   "metadata": {},
   "outputs": [],
   "source": []
  },
  {
   "attachments": {},
   "cell_type": "markdown",
   "metadata": {},
   "source": [
    "**Task 08**"
   ]
  },
  {
   "cell_type": "code",
   "execution_count": null,
   "metadata": {},
   "outputs": [],
   "source": []
  },
  {
   "attachments": {},
   "cell_type": "markdown",
   "metadata": {},
   "source": [
    "**Task 09**"
   ]
  },
  {
   "cell_type": "code",
   "execution_count": null,
   "metadata": {},
   "outputs": [],
   "source": []
  },
  {
   "attachments": {},
   "cell_type": "markdown",
   "metadata": {},
   "source": [
    "**Task 10**"
   ]
  },
  {
   "cell_type": "code",
   "execution_count": null,
   "metadata": {},
   "outputs": [],
   "source": []
  },
  {
   "attachments": {},
   "cell_type": "markdown",
   "metadata": {},
   "source": [
    "**Task 11**"
   ]
  },
  {
   "cell_type": "code",
   "execution_count": null,
   "metadata": {},
   "outputs": [],
   "source": []
  },
  {
   "attachments": {},
   "cell_type": "markdown",
   "metadata": {},
   "source": [
    "**Task 12**"
   ]
  },
  {
   "cell_type": "code",
   "execution_count": null,
   "metadata": {},
   "outputs": [],
   "source": []
  },
  {
   "attachments": {},
   "cell_type": "markdown",
   "metadata": {},
   "source": [
    "**Task 13**"
   ]
  },
  {
   "cell_type": "code",
   "execution_count": null,
   "metadata": {},
   "outputs": [],
   "source": []
  },
  {
   "attachments": {},
   "cell_type": "markdown",
   "metadata": {},
   "source": [
    "**Task 14**"
   ]
  },
  {
   "cell_type": "code",
   "execution_count": null,
   "metadata": {},
   "outputs": [],
   "source": []
  }
 ],
 "metadata": {
  "kernelspec": {
   "display_name": "Python 3",
   "language": "python",
   "name": "python3"
  },
  "language_info": {
   "codemirror_mode": {
    "name": "ipython",
    "version": 3
   },
   "file_extension": ".py",
   "mimetype": "text/x-python",
   "name": "python",
   "nbconvert_exporter": "python",
   "pygments_lexer": "ipython3",
   "version": "3.10.7"
  },
  "orig_nbformat": 4
 },
 "nbformat": 4,
 "nbformat_minor": 2
}
