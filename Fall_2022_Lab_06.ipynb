{
 "cells": [
  {
   "attachments": {},
   "cell_type": "markdown",
   "metadata": {},
   "source": [
    "**Task01**"
   ]
  },
  {
   "cell_type": "code",
   "execution_count": null,
   "metadata": {},
   "outputs": [],
   "source": [
    "class Student():\n",
    "    def __init__(self, name, dept, age, cgpa) -> None:\n",
    "        self.name=name\n",
    "        self.dept=dept\n",
    "        self.age=age\n",
    "        self.cgpa=cgpa\n",
    "\n",
    "\n",
    "\n",
    "#Write your code here for subtasks 1-6.\n",
    "\n",
    "s1 = Student(\"Samin\", \"CSE\", 21, 3.91)\n",
    "s1.showDetails()\n",
    "print(\"-----------------------\")\n",
    "s2 = Student(\"Fahim\", \"ECE\", 21, 3.85)\n",
    "s2.showDetails()\n",
    "print(\"-----------------------\")\n",
    "s3 = Student(\"Tahura\", \"EEE\", 22, 3.01)\n",
    "s3.showDetails() \n",
    "print(\"-----------------------\")\n",
    "s4 = Student.from_String(\"Sumaiya-BBA-23-3.96\")\n",
    "s4.showDetails() \n",
    "\n",
    "\n",
    "# Write the answer of subtask 5 here\n",
    "\n",
    "# Write the answer of subtask 6 here\n",
    "\n",
    "#You are not allowed to change the code above\n"
   ]
  }
 ],
 "metadata": {
  "language_info": {
   "name": "python"
  },
  "orig_nbformat": 4
 },
 "nbformat": 4,
 "nbformat_minor": 2
}
