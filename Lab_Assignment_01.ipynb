{
 "cells": [
  {
   "attachments": {},
   "cell_type": "markdown",
   "metadata": {},
   "source": [
    "**Task 01**\n",
    "From a given string, print the string in all uppercase if the number of uppercase letters is more than lowercase letters. Otherwise, if lowercase is greater or equal to uppercase letters, print all lowercase. The inputs will contain letters (A-Z, a-z) only.  \n",
    "Sample Input  \n",
    "HOusE\n",
    "ApplE\n",
    "BaNaNa\n",
    "Sample Output   \n",
    "HOUSE \n",
    "apple \n",
    "banana "
   ]
  },
  {
   "cell_type": "code",
   "execution_count": 4,
   "metadata": {},
   "outputs": [
    {
     "name": "stdout",
     "output_type": "stream",
     "text": [
      "apple\n"
     ]
    }
   ],
   "source": [
    "user = input(\"Enter  a string: \")\n",
    "upper_case = ''\n",
    "lower_case = ''\n",
    "for i in user:\n",
    "    if 65<= ord(i) <=90:\n",
    "        upper_case += i\n",
    "    else:\n",
    "        lower_case += i\n",
    "\n",
    "def caseConverter(user):\n",
    "    if len(upper_case)> len(lower_case):\n",
    "        return user.upper()\n",
    "    else:\n",
    "        return user.lower()\n",
    "    \n",
    "result = caseConverter(user)\n",
    "print(result)\n",
    "# Method 02\n",
    "# str1 = \"HOusE\"\n",
    "# smolstr = \"\"\n",
    "# bigstr = \"\"\n",
    "# str2 = ''\n",
    "# str3 = ''\n",
    "\n",
    "# for i in str1:\n",
    "#   if 65<=ord(i)<=90:\n",
    "#     bigstr += i\n",
    "#   else:\n",
    "#     smolstr += i\n",
    "# if len(bigstr)>len(smolstr):\n",
    "#   for i in str1:\n",
    "#     if 65<=ord(i)<=95:\n",
    "#       str2 += i\n",
    "#     else:\n",
    "#       str2 += chr(ord(i)-32)\n",
    "#   print(str2)\n",
    "\n",
    "# else:\n",
    "#   for i in str1:\n",
    "#     if 65<=ord(i)<=95:\n",
    "#       str3 += chr(ord(i)+32)\n",
    "#     else:\n",
    "#       str3 += i\n",
    "#   print(str3)"
   ]
  },
  {
   "attachments": {},
   "cell_type": "markdown",
   "metadata": {},
   "source": [
    "**Task 02**\n",
    "Given a string, print whether it is a number, word or mixed with digit and letters. If all the characters are numeric values, print NUMBER. If they are all letters, print WORD. If it is mixed, print MIXED.   \n",
    "Sample Input \n",
    "213213\n",
    "jhg231j213\n",
    "Hello\n",
    "Sample Output  \n",
    "NUMBER   \n",
    "MIXED   \n",
    "WORD "
   ]
  },
  {
   "cell_type": "code",
   "execution_count": 4,
   "metadata": {},
   "outputs": [
    {
     "name": "stdout",
     "output_type": "stream",
     "text": [
      "WORD\n"
     ]
    }
   ],
   "source": [
    "# user = input(\"Enter a string: \")\n",
    "\n",
    "# def checker(user):\n",
    "#     char = ''\n",
    "#     numbers = ''\n",
    "#     for i in user:\n",
    "#         if 65<= ord(i) <= 90 or 97<= ord(i) <= 122:\n",
    "#             char += i\n",
    "#         else:\n",
    "#             numbers += i\n",
    "\n",
    "#     if len(char) == len(user):\n",
    "#         print('WORD')\n",
    "#     elif len(numbers) == len(user):\n",
    "#         print('NUMBER')\n",
    "#     else:\n",
    "#         print('MIXED')\n",
    "\n",
    "# result = checker(user)\n",
    "\n",
    "\n",
    "#Method 02\n",
    "user = input(\"Enter a string: \")\n",
    "\n",
    "numbers = '0123456789'\n",
    "count = 0\n",
    "\n",
    "for i in user:\n",
    "    if i in numbers:\n",
    "        count += 1\n",
    "\n",
    "if count == 0:\n",
    "    print(\"WORD\")\n",
    "\n",
    "elif count < len(user) or count > len(user):\n",
    "    print(\"MIXED\")\n",
    "\n",
    "else:\n",
    "    print(\"NUMBER\")"
   ]
  },
  {
   "attachments": {},
   "cell_type": "markdown",
   "metadata": {},
   "source": [
    " **Task 03**\n",
    " In a given string, there will be two uppercase letters in between some lowercase letters. Print the substring from the first uppercase letter to the last uppercase letter excluding them. If there are no letters in between them, print the word BLANK. It is guaranteed that there will be only two uppercase letters in the string.    \n",
    " Sample Input  \n",
    "baNgladEsh\n",
    "coDIng\n",
    " Sample Output   \n",
    "glad   \n",
    "BLANK "
   ]
  },
  {
   "cell_type": "code",
   "execution_count": 4,
   "metadata": {},
   "outputs": [
    {
     "name": "stdout",
     "output_type": "stream",
     "text": [
      "glad\n"
     ]
    }
   ],
   "source": [
    "user = input('Enter a string: ')\n",
    "newString = ''\n",
    "firstUpper = 0\n",
    "seconUpper = 0\n",
    "for i in range(0,len(user)):\n",
    "    if 65<= ord(user[i]) <= 90:\n",
    "        firstUpper = i\n",
    "        break\n",
    "for i in range(firstUpper+1,len(user)):\n",
    "    if 65<= ord(user[i]) <= 90:\n",
    "        secondUpper = i\n",
    "        break\n",
    "for i in range(firstUpper+1,secondUpper):\n",
    "    newString += user[i]\n",
    "if len(newString) == 0:\n",
    "    print('BLANK')\n",
    "else:\n",
    "    print(newString)"
   ]
  },
  {
   "attachments": {},
   "cell_type": "markdown",
   "metadata": {},
   "source": [
    " **Task 04**\n",
    "Create a string from two given strings by concatenating common characters of the given strings. \n",
    "Sample Input \n",
    "harry, hermione \n",
    "dean, tom \n",
    "Sample Output \n",
    "hrrhr \n",
    "Nothing in common. "
   ]
  },
  {
   "cell_type": "code",
   "execution_count": 2,
   "metadata": {},
   "outputs": [
    {
     "name": "stdout",
     "output_type": "stream",
     "text": [
      "hrrhr\n"
     ]
    }
   ],
   "source": [
    "user = input(\"Enter string separeted by comma: \").split(\",\")\n",
    "\n",
    "newString = ''\n",
    "firstElement = user[0]\n",
    "secondElement = user[1]\n",
    "\n",
    "for i in firstElement:\n",
    "    if i in secondElement:\n",
    "        newString += i\n",
    "for i in secondElement:\n",
    "    if i in firstElement:\n",
    "        newString += i\n",
    "\n",
    "if newString == \"\":\n",
    "    print('Nothing in common.')\n",
    "else:\n",
    "    print(newString)"
   ]
  },
  {
   "attachments": {},
   "cell_type": "markdown",
   "metadata": {},
   "source": [
    " **Task 05**\n",
    "Again, you have lost your USIS password!! You went to the registrar office and requested for a new password. This time, you need to follow some rules to set your password. Otherwise, they won't change it. The rules are \n",
    "            At least one lowercase letter \n",
    "            At least one uppercase letter \n",
    "            At least one digit (09) \n",
    "            At least one special character (_ , $ , #, @) \n",
    "Your task is to find whether a given password follows all those rules. If it breaks any rule, you have to print Lowercase Missing, Uppercase Missing, Digit Missing or Special Missing respective to the missing case. For more than one rule break, print all the rules that were broken (order doesn't matter). If the password is ok, print OK. \n",
    "Sample Input \n",
    "ohMyBR@CU \n",
    "ohmybracu \n",
    "OhMyBR@CU20 \n",
    "Sample Output \n",
    "Digit missing \n",
    "Uppercase character missing, Digit missing, Special character missing \n",
    "OK"
   ]
  },
  {
   "cell_type": "code",
   "execution_count": 28,
   "metadata": {},
   "outputs": [
    {
     "name": "stdout",
     "output_type": "stream",
     "text": [
      "OK\n"
     ]
    }
   ],
   "source": [
    "user = input('Enter your password: ')\n",
    "\n",
    "lower_count = 0\n",
    "upper_count = 0\n",
    "digit_count = 0\n",
    "character_count = 0\n",
    "error = ''\n",
    "\n",
    "for i in user:\n",
    "    if ord(\"a\") <= ord(i) <= ord(\"z\"):\n",
    "        lower_count += 1\n",
    "    elif ord(\"A\") <= ord(i) <= ord(\"Z\"):\n",
    "        upper_count += 1\n",
    "    elif ord(\"0\") <= ord(i) <= ord(\"9\"):\n",
    "        digit_count += 1\n",
    "    else:\n",
    "        character_count += 1\n",
    "\n",
    "if lower_count == 0:\n",
    "    error += \"Lowercase character missing, \"\n",
    "if upper_count == 0:\n",
    "    error += \"Uppercase character missing, \"\n",
    "if digit_count == 0:\n",
    "    error += \"Digit character missing, \"\n",
    "if character_count == 0:\n",
    "    error += \"Special character missing \"\n",
    "\n",
    "if error == '':\n",
    "    print(\"OK\")\n",
    "else:\n",
    "    print(error)"
   ]
  },
  {
   "attachments": {},
   "cell_type": "markdown",
   "metadata": {},
   "source": [
    "**List**"
   ]
  },
  {
   "attachments": {},
   "cell_type": "markdown",
   "metadata": {},
   "source": [
    "**Task 01**\n",
    "Write a python program which prints the frequency of the numbers that were given as input by the user. Stop taking input when you find the string “STOP”. Do not print the frequency of numbers that were not given as input. \n",
    "Sample Input \n",
    "10 \n",
    "20 \n",
    "20 \n",
    "30 \n",
    "10 \n",
    "50 \n",
    "90 \n",
    "STOP \n",
    "Sample Output \n",
    "10 - 2 times \n",
    "20 - 2 times \n",
    "30 - 1 times \n",
    "50 - 1 times \n",
    "90 - 1 times "
   ]
  },
  {
   "cell_type": "code",
   "execution_count": 1,
   "metadata": {},
   "outputs": [
    {
     "name": "stdout",
     "output_type": "stream",
     "text": [
      "10 2 times\n",
      "20 2 times\n",
      "30 1 times\n",
      "50 1 times\n",
      "90 1 times\n"
     ]
    }
   ],
   "source": [
    "myList = []\n",
    "while  True :\n",
    "    user = input()\n",
    "    if user != 'STOP':\n",
    "      myList.append(int(user))\n",
    "    if user == 'STOP':\n",
    "      break\n",
    "\n",
    "list2 = []\n",
    "for i in myList:\n",
    "  if i not in list2:\n",
    "    list2.append(i)\n",
    "\n",
    "for item in list2:\n",
    "  count= 0\n",
    "  for j in myList:\n",
    "    if item == j:\n",
    "      count += 1\n",
    "  print(item,count,'times')"
   ]
  },
  {
   "attachments": {},
   "cell_type": "markdown",
   "metadata": {},
   "source": [
    "**Task 02**\n",
    "Write a python program that calculates the sum of N given lists and prints the highest sum and its respective list. Input starts with N and followed by N lists. \n",
    "Sample Input \n",
    "4 \n",
    "1  2  3 \n",
    "4  5  6 \n",
    "10 11 12 \n",
    "7 8 9 \n",
    "Sample Output \n",
    "33 \n",
    "[10, 11, 12]"
   ]
  },
  {
   "cell_type": "code",
   "execution_count": 6,
   "metadata": {},
   "outputs": [
    {
     "name": "stdout",
     "output_type": "stream",
     "text": [
      "33\n",
      "[10, 11, 12]\n"
     ]
    }
   ],
   "source": [
    "# Method 01\n",
    "listNumber = int(input(\"Enter the number of list: \"))\n",
    "\n",
    "maxSum = 0\n",
    "maxList = []\n",
    "def sumList(user):\n",
    "    global maxSum,maxList\n",
    "    listSum = 0\n",
    "    for i in user:\n",
    "        listSum += int(i)\n",
    "    if listSum > maxSum:\n",
    "        maxSum = listSum\n",
    "        maxList = user\n",
    "\n",
    "    return maxList and maxSum\n",
    "    \n",
    "for i in range(listNumber):\n",
    "    user =  input('Enter your list of numbers: ').split()\n",
    "    sumList(user)\n",
    "\n",
    "finalList = []\n",
    "for i in maxList:\n",
    "    finalList.append(int(i))\n",
    "print(maxSum)\n",
    "print(finalList)\n",
    "\n",
    "# Method 02\n",
    "# def sum_list(lst):\n",
    "#     \"\"\"\n",
    "#     Given a list as input, this function checks wheater the sum of given \n",
    "#     list is maximum among the input lists.\n",
    "#     \"\"\"\n",
    "#     global max_sum, max_lst\n",
    "#     lst_sum = sum(lst)\n",
    "#     if lst_sum > max_sum:\n",
    "#         max_sum = lst_sum\n",
    "#         max_lst = lst\n",
    "\n",
    "\n",
    "# N = int(input())\n",
    "# max_sum = 0\n",
    "# max_lst = []\n",
    "# for i in range(N):\n",
    "#     lst = [int(num) for num in input().split()]\n",
    "#     sum_list(lst)\n",
    "\n",
    "# print(max_sum)\n",
    "# print(max_lst)"
   ]
  },
  {
   "attachments": {},
   "cell_type": "markdown",
   "metadata": {},
   "source": [
    "**Task 03**\n",
    "Write a python program that prints a list which contains cross multiplication between two given lists.\n",
    "Sample Input\n",
    "2 3 6\n",
    "3 4 5\n",
    "Sample Output\n",
    "[6, 8, 10, 9, 12, 15, 18, 24, 30]"
   ]
  },
  {
   "cell_type": "code",
   "execution_count": 9,
   "metadata": {},
   "outputs": [
    {
     "name": "stdout",
     "output_type": "stream",
     "text": [
      "[6, 8, 10, 9, 12, 15, 18, 24, 30]\n"
     ]
    }
   ],
   "source": [
    "myList = []\n",
    "\n",
    "user_list1 = input('Enter your first list: ').split()\n",
    "user_list2 = input('Enter your second list: ').split()\n",
    "\n",
    "for i in user_list1:\n",
    "    for j in user_list2:\n",
    "        mult = int(i) * int(j)\n",
    "        myList.append(mult)\n",
    "\n",
    "print(myList)"
   ]
  },
  {
   "attachments": {},
   "cell_type": "markdown",
   "metadata": {},
   "source": [
    "**Task 04**\n",
    "Let there are N numbers in a list and that list is said to be a UB Jumper if the absolute values of the difference between the successive elements take on all the values 1 through N − 1. For example, 2 1 4 6 10 is a UB Jumper because the absolute differences between them are 1 3 2 4 which is all numbers from 1 to (5 - 1) or 4. Write a python program that takes a number sequence as input and prints whether it is a UB Jumper or Not UB Jumper. Input will stop after getting “STOP” as input. (Number order or absolute difference order doesn’t follow any sequence.)\n",
    "Sample Input  \n",
    "1 4 2 3 \n",
    "2 1 4 6 10 \n",
    "1 4 2 -1 6 \n",
    "STOP \n",
    "Sample Output  \n",
    "UB Jumper \n",
    "UB Jumper \n",
    "Not UB Jumper "
   ]
  },
  {
   "cell_type": "code",
   "execution_count": 8,
   "metadata": {},
   "outputs": [
    {
     "name": "stdout",
     "output_type": "stream",
     "text": [
      "[3, -2, -3, 7]\n",
      "[3, 2, 3, 7]\n",
      "NOt UB Jumper\n"
     ]
    }
   ],
   "source": [
    "while True:\n",
    "    user = input(\"Enter your list: \")\n",
    "    if user == \"STOP\":\n",
    "        break\n",
    "    else:\n",
    "        user = user.split()\n",
    "        newList = []\n",
    "        for i in user:\n",
    "            newList.append(int(i))\n",
    "        N = len(newList)\n",
    "        for i in range(0,len(newList)-1):\n",
    "            diff = newList[i+1] - newList[i]\n",
    "            if diff < N:\n",
    "                result = 'UB Jumper'\n",
    "            else:\n",
    "                result = 'Not UB Jumper'\n",
    "        print(result)\n",
    "\n",
    "\n",
    "# Method 02\n",
    "# l1 = [1,4,2,-1,6]\n",
    "# l2 = []\n",
    "# l3 = []\n",
    "# toggle = True\n",
    "# i=1\n",
    "\n",
    "# while i<=len(l1)-1:\n",
    "#   l2.append(l1[i]-l1[i-1])\n",
    "#   i += 1\n",
    "# print(l2)\n",
    "# for j in l2:\n",
    "#   if j>=0:\n",
    "#     l3.append(j)\n",
    "#   else:\n",
    "#     l3.append(-1*j)\n",
    "# print(l3)\n",
    "# for k in l3:\n",
    "#   if k>len(l1)-1:\n",
    "#     toggle = False\n",
    "#     break\n",
    "# if toggle:\n",
    "#   print(\"UB Jumper\")\n",
    "# else:\n",
    "#   print(\"NOt UB Jumper\")"
   ]
  },
  {
   "attachments": {},
   "cell_type": "markdown",
   "metadata": {},
   "source": [
    "**Task 05**\n",
    "BRACU has n students who are regular competitive programmers. According to the ACM ICPC rules, each person can participate in the regional championship at most 5 times.  The head of the BRACU ACM Chapter is recently gathering teams to participate in this championship. Each team must consist of exactly three people, at that, any person cannot be a member of two or more teams. What maximum number of teams can the head make if he wants each team to participate in the world championship with the same members at least k times?  The first line of input contains two integers, n and k. The next line contains n integers: y1, y2, ..., yn  (0 ≤ yi ≤ 5),  where  yi  shows the  number  of  times  the  i-th person participated in the ACM ICPC Regional .  Write a python program that prints how many teams can be formed according to the above problem statement. \n",
    "Sample Input 1  \n",
    "5 2 \n",
    "0 4 5 1 0  \n",
    "Sample Input 2  \n",
    "6 4 \n",
    "0 1 2 3 4 5  \n",
    "Sample Input 3  \n",
    "6 5 \n",
    "0 0 0 0 0 0 \n",
    "Sample Output 1 \n",
    "1  \n",
    "Sample Output 2 \n",
    "0  \n",
    "Sample Output 3 \n",
    "2 "
   ]
  },
  {
   "cell_type": "code",
   "execution_count": 44,
   "metadata": {},
   "outputs": [
    {
     "name": "stdout",
     "output_type": "stream",
     "text": [
      "0\n"
     ]
    }
   ],
   "source": [
    "user_input1 = input(\"Enter the number of members and number of participation: \").split()\n",
    "user_input2 = input(\"Enter the member participaton: \").split()\n",
    "\n",
    "mem = ''\n",
    "for i in user_input2:\n",
    "    if int(user_input1[1]) + int(i) <= 5:\n",
    "        mem += i\n",
    "\n",
    "if len(mem) == 0:\n",
    "    print(0)\n",
    "else:\n",
    "    result = len(mem)//3\n",
    "    print(result)"
   ]
  },
  {
   "attachments": {},
   "cell_type": "markdown",
   "metadata": {},
   "source": [
    "**Dictionary & Tuple**"
   ]
  },
  {
   "attachments": {},
   "cell_type": "markdown",
   "metadata": {},
   "source": [
    "**TASK 01**\n",
    "Write a Python program to combine two dictionaries into one by adding values for common keys. Input contains two comma separated dictionaries. Print the new dictionary and create a tuple which contains unique values in sorted order\n",
    "Sample Input \n",
    "a:  100, b: 100, c: 200, d: 300\n",
    "a: 300, b: 200, d: 400, e:  200 \n",
    "Sample Output \n",
    "{'a': 400, 'b': 300, 'c': 200,'d': 700, 'e': 200} \n",
    "Values: (200, 300, 400, 700) "
   ]
  },
  {
   "cell_type": "code",
   "execution_count": 3,
   "metadata": {},
   "outputs": [
    {
     "name": "stdout",
     "output_type": "stream",
     "text": [
      "[400, 300, 200, 700]\n",
      "{'a': 400, 'b': 300, 'c': 200, 'd': 700, 'e': 200}\n"
     ]
    }
   ],
   "source": [
    "user_input1 = {\"a\":  100, 'b': 100, 'c': 200, 'd': 300}\n",
    "user_input2 = {\"a\": 300, 'b': 200, 'd': 400, 'e':  200}\n",
    "\n",
    "newDict = {}\n",
    "\n",
    "for i in user_input1.keys():\n",
    "    if i in user_input2.keys():\n",
    "        newDict[i] = user_input1[i] + user_input2 [i]\n",
    "    else:\n",
    "        newDict[i] = user_input1[i]\n",
    "for i in user_input2.keys():\n",
    "    if i not in newDict:\n",
    "        newDict[i] = user_input2[i]\n",
    "\n",
    "newList = []\n",
    "for val in newDict.values():\n",
    "    if val not in newList:\n",
    "        newList.append(val)\n",
    "\n",
    "for i in range(len(newList)):\n",
    "    for j in range(0,len(newList)-i,-1):\n",
    "        if newList[j] > newList[j+1]:\n",
    "            newList[j],newList[j+1] = newList[j+1],newList[j]\n",
    "# lst = newList\n",
    "# # # lst = [400, 300, 200, 700]\n",
    "# n = len(lst)\n",
    "# for i in range(n):\n",
    "#     for j in range(0, n - i - 1):\n",
    "#         if lst[j] > lst[j + 1]:\n",
    "#             lst[j], lst[j + 1] = lst[j + 1], lst[j]\n",
    "# print(lst)\n",
    "\n",
    "print(newList)\n",
    "print(newDict)"
   ]
  },
  {
   "attachments": {},
   "cell_type": "markdown",
   "metadata": {},
   "source": [
    "**TASK 02**\n",
    "\n",
    "Write a python program which prints the frequency of the numbers that were given as input by the user. Stop taking input when you find the string “STOP”. Do not print the frequency of numbers that were not given as input. Use a dictionary to solve the problem \n",
    "Sample Input \n",
    "10 \n",
    "20 \n",
    "20 \n",
    "30 \n",
    "10 \n",
    "50 \n",
    "90 \n",
    "STOP \n",
    "Sample Output \n",
    "10 - 2 times\n",
    "20 - 2 times\n",
    "30 - 1 times\n",
    "50 - 1 times\n",
    "90 - 1 times"
   ]
  },
  {
   "cell_type": "code",
   "execution_count": 37,
   "metadata": {},
   "outputs": [
    {
     "name": "stdout",
     "output_type": "stream",
     "text": [
      "{'10': 2, '20': 2, '30': 1, '50': 1, '90': 1}\n"
     ]
    }
   ],
   "source": [
    "myDict = {}\n",
    "while True:\n",
    "    user = input(\"Enter your list: \")\n",
    "    if user == \"STOP\":\n",
    "        break\n",
    "    else:\n",
    "        if user not in myDict:\n",
    "            myDict[user] = 1\n",
    "        else:\n",
    "            myDict[user] += 1\n",
    "\n",
    "print(myDict)"
   ]
  },
  {
   "attachments": {},
   "cell_type": "markdown",
   "metadata": {},
   "source": [
    "**TASK 03**\n",
    "Write python code to invert a dictionary. It should print a dictionary where the keys are values from the input dictionary and the values are lists of keys from the input dictionary having the same value. Make sure the program handles multiple same values. \n",
    "Sample Input \n",
    "key1 : value1, key2 : value2, key3 : value1 \n",
    "Sample Output \n",
    "{\"value1\" : [\"key1\", \"key3\"], \"value2\" : [\"key2\"]} "
   ]
  },
  {
   "cell_type": "code",
   "execution_count": 46,
   "metadata": {},
   "outputs": [
    {
     "name": "stdout",
     "output_type": "stream",
     "text": [
      "{'value1': ['key1', 'key3'], 'value2': ['key2']}\n"
     ]
    }
   ],
   "source": [
    "input_Dict = {'key1' : 'value1', 'key2' : 'value2', 'key3' : 'value1'}\n",
    "\n",
    "newDict = {}\n",
    "for key,val in input_Dict.items():\n",
    "    if val not in newDict:\n",
    "        newDict[val] = [key]\n",
    "    else:\n",
    "        newDict[val].append(key)\n",
    "\n",
    "print(newDict)"
   ]
  },
  {
   "attachments": {},
   "cell_type": "markdown",
   "metadata": {},
   "source": [
    "**TASK 04**\n",
    "On some basic cell phones, text messages can be sent using the numeric keypad. Because each key has multiple letters associated with it, multiple key presses are needed for most letters. Pressing the number once generates the first character listed for that key. Pressing the number 2, 3, 4 or 5 times generates the second, third, fourth or fifth character. \n",
    "    Key Symbols \n",
    "    1   .,?!: \n",
    "    2   ABC \n",
    "    3   DEF \n",
    "    4   GHI \n",
    "    5   JKL \n",
    "    6   MNO \n",
    "    7   PQRS \n",
    "    8   TUV \n",
    "    9   WXYZ \n",
    "    0   Space  \n",
    "Write a program that displays the key presses needed for a message enteredby the user. Construct a dictionary that maps from each letter or symbolto the key presses needed to generate it. Then use the dictionary tocreate and display the presses needed for the user’s message. \n",
    "Sample Input \n",
    "Hello, World!\n",
    "Sample Output \n",
    "4433555555666110966677755531111"
   ]
  },
  {
   "cell_type": "code",
   "execution_count": 4,
   "metadata": {},
   "outputs": [
    {
     "name": "stdout",
     "output_type": "stream",
     "text": [
      "HELLO, WORLD!\n",
      "4433555555666110966677755531111"
     ]
    }
   ],
   "source": [
    "dict = {1:'.,?!:' ,2:'ABC' ,3:'DEF' ,4:'GHI' ,5:'JKL' ,6:'MNO' ,7:'PQRS' ,8:'TUV' ,9:'WXYZ' ,0:'Space' }\n",
    "\n",
    "user = input(\"Enter your message: \")\n",
    "string = ''\n",
    "for i in user:\n",
    "    if 65 <= ord(i) <= 90:\n",
    "        string += i\n",
    "    elif 97 <= ord(i) <=122:\n",
    "        string += chr(ord(i)-32)\n",
    "    else:\n",
    "        string += i\n",
    "\n",
    "\n",
    "key_mapping = {\n",
    "    \".\": 1, \",\": 11, \"?\": 111, \"!\": 1111, \":\": 11111,\n",
    "    \"A\": 2, \"B\": 22, \"C\": 222,\n",
    "    \"D\": 3, \"E\": 33, \"F\": 333,\n",
    "    \"G\": 4, \"H\": 44, \"I\": 444,\n",
    "    \"J\": 5, \"K\": 55, \"L\": 555,\n",
    "    \"M\": 6, \"N\": 66, \"O\": 666,\n",
    "    \"P\": 7, \"Q\": 77, \"R\": 777, \"S\": 7777,\n",
    "    \"T\": 8, \"U\": 88, \"V\": 888,\n",
    "    \"W\": 9, \"X\": 99, \"Y\": 999, \"Z\": 9999,\n",
    "    \" \": 0\n",
    "}\n",
    "for char in string:\n",
    "    key = key_mapping[char]\n",
    "    print(key,end='')"
   ]
  }
 ],
 "metadata": {
  "kernelspec": {
   "display_name": "Python 3",
   "language": "python",
   "name": "python3"
  },
  "language_info": {
   "codemirror_mode": {
    "name": "ipython",
    "version": 3
   },
   "file_extension": ".py",
   "mimetype": "text/x-python",
   "name": "python",
   "nbconvert_exporter": "python",
   "pygments_lexer": "ipython3",
   "version": "3.10.7"
  },
  "orig_nbformat": 4,
  "vscode": {
   "interpreter": {
    "hash": "45446571a1dd78e2e32e7d307011dd88be5012a536fa99b069f150ccdbbf577b"
   }
  }
 },
 "nbformat": 4,
 "nbformat_minor": 2
}
