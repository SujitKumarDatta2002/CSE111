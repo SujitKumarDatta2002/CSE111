{
 "cells": [
  {
   "attachments": {},
   "cell_type": "markdown",
   "metadata": {},
   "source": [
    "**Task 01**"
   ]
  },
  {
   "cell_type": "code",
   "execution_count": 3,
   "metadata": {},
   "outputs": [
    {
     "name": "stdout",
     "output_type": "stream",
     "text": [
      "Hello!\n",
      "Sam, you purchased 3 item(s):\n",
      "chips\n",
      "chocolate\n",
      "orange juice\n",
      "-----------------------------\n",
      "Hello David!\n",
      "David, you purchased 1 item(s):\n",
      "orange juice\n"
     ]
    }
   ],
   "source": [
    "class Customer():\n",
    "    def __init__(self,name) -> None:\n",
    "        self.name = name\n",
    "    def greet(self,name = None):\n",
    "        if name == None:\n",
    "            print(\"Hello!\")\n",
    "        else:\n",
    "            print(f\"Hello {name}!\")\n",
    "    def purchase(self,*item):\n",
    "        print(f\"{self.name}, you purchased {len(item)} item(s):\")\n",
    "        for i in item:\n",
    "            print(i)\n",
    "\n",
    "# Write your codes for subtasks 1-4 here.\n",
    "\n",
    "customer_1 = Customer(\"Sam\")\n",
    "customer_1.greet()\n",
    "customer_1.purchase(\"chips\", \"chocolate\", \"orange juice\")\n",
    "print(\"-----------------------------\")\n",
    "customer_2 = Customer(\"David\")\n",
    "customer_2.greet(\"David\")\n",
    "customer_2.purchase(\"orange juice\")\n"
   ]
  },
  {
   "attachments": {},
   "cell_type": "markdown",
   "metadata": {},
   "source": [
    "**Task 02**"
   ]
  },
  {
   "cell_type": "code",
   "execution_count": 3,
   "metadata": {},
   "outputs": [
    {
     "name": "stdout",
     "output_type": "stream",
     "text": [
      "Kunfu is a Male Panda Bear who is 5 years old\n",
      "Pan Pan is a Female Panda Bear who is 3 years old\n",
      "Ming Ming is a Female Panda Bear who is 8 years old\n",
      "===========================\n",
      "Pan Pan sleeps 10 hours daily and should have Broccoli Chicken\n",
      "None\n",
      "Kunfu sleeps 4 hours daily and should have Mixed Veggies\n",
      "None\n",
      "Ming Ming sleeps duration is unknown thus should have only bamboo leaves\n",
      "None\n"
     ]
    }
   ],
   "source": [
    "class Panda():\n",
    "    def __init__(self, name, gender, age) -> None:\n",
    "        self.name = name\n",
    "        self.gender = gender\n",
    "        self.age = age\n",
    "    def sleep(self, hour = None):\n",
    "        if hour == None:\n",
    "            print(f\"{self.name} sleeps duration is unknown thus should have only bamboo leaves\")\n",
    "        elif 3<= hour <=5:\n",
    "            print(f\"{self.name} sleeps {hour} hours daily and should have Mixed Veggies\")\n",
    "        elif 6<= hour <=8:\n",
    "            print(f\"{self.name} sleeps {hour} hours daily and should have Eggplant & Tofu\")\n",
    "        elif 9<= hour <= 11:\n",
    "            print(f\"{self.name} sleeps {hour} hours daily and should have Broccoli Chicken\")\n",
    "        else:\n",
    "            print(f\"{self.name} sleeps {hour} hours daily and should have only bamboo leaves\")\n",
    "\n",
    "\n",
    "#Write your code here for subtasks 1-4.\n",
    " \n",
    "panda1 = Panda(\"Kunfu\",\"Male\", 5)\n",
    "panda2=Panda(\"Pan Pan\",\"Female\",3)\n",
    "panda3=Panda(\"Ming Ming\",\"Female\",8)\n",
    "\n",
    "print(\"{} is a {} Panda Bear who is {} years old\".format(panda1.name,panda1.gender,panda1.age))\n",
    "\n",
    "print(\"{} is a {} Panda Bear who is {} years old\".format(panda2.name,panda2.gender,panda2.age))\n",
    "\n",
    "print(\"{} is a {} Panda Bear who is {} years old\".format(panda3.name,panda3.gender,panda3.age))\n",
    "print(\"===========================\")\n",
    "print(panda2.sleep(10))\n",
    "print(panda1.sleep(4))\n",
    "print(panda3.sleep())\n"
   ]
  },
  {
   "attachments": {},
   "cell_type": "markdown",
   "metadata": {},
   "source": [
    "**Task 03**"
   ]
  },
  {
   "cell_type": "code",
   "execution_count": 2,
   "metadata": {},
   "outputs": [
    {
     "name": "stdout",
     "output_type": "stream",
     "text": [
      "White cat is sitting \n",
      "Black cat is sitting \n",
      "Brown cat is jumping \n",
      "Red cat is purring \n",
      "Blue cat is sitting \n",
      "Purple cat is jumping \n"
     ]
    }
   ],
   "source": [
    "class Cat():\n",
    "    def __init__(self,info1 = \"White\",info2 = \"sitting\") -> None:\n",
    "        self.color = info1\n",
    "        self.position = info2\n",
    "    def printCat(self):\n",
    "        print(f\"{self.color} cat is {self.position} \")\n",
    "    def changeColor(self,color):\n",
    "        self.color = color\n",
    "\n",
    "#Write your code here\n",
    "\n",
    "c1 = Cat()\n",
    "c2 = Cat(\"Black\")\n",
    "c3 = Cat(\"Brown\", \"jumping\")\n",
    "c4 = Cat(\"Red\", \"purring\")\n",
    "c1.printCat()\n",
    "c2.printCat()\n",
    "c3.printCat()\n",
    "c4.printCat()\n",
    "c1.changeColor(\"Blue\")\n",
    "c3.changeColor(\"Purple\")\n",
    "c1.printCat()\n",
    "c3.printCat()\n"
   ]
  },
  {
   "attachments": {},
   "cell_type": "markdown",
   "metadata": {},
   "source": [
    "**Task 04**"
   ]
  },
  {
   "cell_type": "code",
   "execution_count": 4,
   "metadata": {},
   "outputs": [
    {
     "name": "stdout",
     "output_type": "stream",
     "text": [
      "--------------------------------\n",
      "Hello default student\n",
      "Your average quiz score is 3.3333333333333335\n",
      "--------------------------------\n",
      "Hello Harry\n",
      "Your average quiz score is 6.0\n",
      "--------------------------------\n",
      "Hello Hermione\n",
      "Your average quiz score is 9.666666666666666\n"
     ]
    }
   ],
   "source": [
    "class Student():\n",
    "    def __init__(self, name = None) -> None:\n",
    "        if name == None:\n",
    "            self.name = 'default student'\n",
    "        else:\n",
    "            self.name = name\n",
    "    def quizcalc(self, *marks):\n",
    "        total = 0\n",
    "        for i in marks:\n",
    "            total += i\n",
    "        self.avg = total/3\n",
    "    def printdetail(self):\n",
    "        print(f\"Hello {self.name}\\nYour average quiz score is {self.avg}\")\n",
    "\n",
    "# Write your code here\n",
    "s1 = Student()\n",
    "s1.quizcalc(10)\n",
    "print('--------------------------------')\n",
    "s1.printdetail()\n",
    "s2 = Student('Harry')\n",
    "s2.quizcalc(10,8)\n",
    "print('--------------------------------')\n",
    "s2.printdetail()\n",
    "s3 = Student('Hermione')\n",
    "s3.quizcalc(10,9,10)\n",
    "print('--------------------------------')\n",
    "s3.printdetail() \n"
   ]
  },
  {
   "attachments": {},
   "cell_type": "markdown",
   "metadata": {},
   "source": [
    "**Task 05**"
   ]
  },
  {
   "cell_type": "code",
   "execution_count": 3,
   "metadata": {},
   "outputs": [
    {
     "name": "stdout",
     "output_type": "stream",
     "text": [
      "Name: Harry Potter\n",
      "ID: 123\n",
      "Department: CSE\n",
      "Daily Effort: 3 hour(s)\n",
      "Suggestion: Keep up the good work!\n",
      "========================\n",
      "Name: John Wick\n",
      "ID: 456\n",
      "Department: BBA\n",
      "Daily Effort: 2 hour(s)\n",
      "Suggestion: Should give more effort!\n",
      "========================\n",
      "Name: Naruto Uzumaki\n",
      "ID: 777\n",
      "Department: Ninja\n",
      "Daily Effort: 6 hour(s)\n",
      "Suggestion: Excellent! Now motivate others\n"
     ]
    }
   ],
   "source": [
    "class Student():\n",
    "    def __init__(self,name,id,dept = \"CSE\") -> None:\n",
    "        self.name = name\n",
    "        self.id = id\n",
    "        self.dept = dept\n",
    "        print(f\"Name: {self.name}\")\n",
    "        print(f\"ID: {self.id}\")\n",
    "        print(f\"Department: {self.dept}\")\n",
    "    def dailyEffort(self,hour):\n",
    "        self.hour = hour\n",
    "        print(f\"Daily Effort: {self.hour} hour(s)\")\n",
    "    def printDetails(self):\n",
    "        if self.hour <= 2:\n",
    "            print(\"Suggestion: Should give more effort!\")\n",
    "        elif self.hour <= 4:\n",
    "            print(\"Suggestion: Keep up the good work!\")\n",
    "        else:\n",
    "            print(\"Suggestion: Excellent! Now motivate others\")\n",
    "\n",
    "# Write your code here.\n",
    "harry = Student('Harry Potter', 123)\n",
    "harry.dailyEffort(3)\n",
    "harry.printDetails()\t\n",
    "print('========================')\n",
    "john = Student(\"John Wick\", 456, \"BBA\")\n",
    "john.dailyEffort(2)\n",
    "john.printDetails()\n",
    "print('========================')\n",
    "naruto = Student(\"Naruto Uzumaki\", 777, \"Ninja\")\n",
    "naruto.dailyEffort(6)\n",
    "naruto.printDetails()"
   ]
  },
  {
   "attachments": {},
   "cell_type": "markdown",
   "metadata": {},
   "source": [
    "**Task 06**"
   ]
  },
  {
   "cell_type": "code",
   "execution_count": 9,
   "metadata": {},
   "outputs": [
    {
     "name": "stdout",
     "output_type": "stream",
     "text": [
      "=========================\n",
      "Name: Thomas\n",
      "Age: 23\n",
      "Symptoms: Headache\n",
      "=========================\n",
      "Name: Carol\n",
      "Age: 20\n",
      "Symptoms: Vomiting, Coughing\n",
      "=========================\n",
      "Name: Mike\n",
      "Age: 25\n",
      "Symptoms: Fever, Headache, Coughing\n"
     ]
    }
   ],
   "source": [
    "class Patient():\n",
    "    def __init__(self, name, age) -> None:\n",
    "        self.name = name\n",
    "        self.age = age\n",
    "    def add_Symptom(self, *data):\n",
    "        self.symptom = ''\n",
    "        for i in data:\n",
    "            self.symptom += i + \", \"\n",
    "        self.symptom = self.symptom[:-2]\n",
    "    def printPatientDetail(self):\n",
    "        print(f\"Name: {self.name}\\nAge: {self.age}\\nSymptoms: {self.symptom}\")\n",
    "\n",
    "\n",
    "# Write your code here.\n",
    "p1 = Patient(\"Thomas\", 23)\n",
    "p1.add_Symptom(\"Headache\")\n",
    "p2 = Patient(\"Carol\", 20)\n",
    "p2.add_Symptom(\"Vomiting\", \"Coughing\")\n",
    "p3 = Patient(\"Mike\", 25)\n",
    "p3.add_Symptom(\"Fever\", \"Headache\", \"Coughing\")\n",
    "print(\"=========================\")\n",
    "p1.printPatientDetail()\n",
    "print(\"=========================\")\n",
    "p2.printPatientDetail()\n",
    "print(\"=========================\")\n",
    "p3.printPatientDetail()\n"
   ]
  },
  {
   "attachments": {},
   "cell_type": "markdown",
   "metadata": {},
   "source": [
    "**Task 07**"
   ]
  },
  {
   "cell_type": "code",
   "execution_count": 3,
   "metadata": {},
   "outputs": [
    {
     "name": "stdout",
     "output_type": "stream",
     "text": [
      "5..4..3..2..1.. Play !!!\n",
      "=========================\n",
      "Batting Team: Rangpur Riders\n",
      "BowlingTeam: Cumilla Victorians\n",
      "Total Runs: 10 Wickets: 0 Overs: 1\n",
      "=========================\n",
      "Warning! Cannot add 5 over/s (5 over match)\n",
      "=========================\n",
      "Batting Team: Rangpur Riders\n",
      "BowlingTeam: Cumilla Victorians\n",
      "Total Runs: 10 Wickets: 1 Overs: 1\n"
     ]
    }
   ],
   "source": [
    "class Match():\n",
    "    def __init__(self, name) -> None:\n",
    "        self.name = name\n",
    "        self.run = 0\n",
    "        self.over = 0\n",
    "        self.wicket = 0\n",
    "        print(\"5..4..3..2..1.. Play !!!\")\n",
    "    def add_run(self, run):\n",
    "        self.run += run\n",
    "    def add_over(self, over):\n",
    "        if (self.over+over) > 5:\n",
    "            print(f\"Warning! Cannot add {over} over/s (5 over match)\")\n",
    "        else:\n",
    "            self.over += over\n",
    "    def add_wicket(self, wicket):\n",
    "        self.wicket = wicket\n",
    "    def print_scoreboard(self):\n",
    "        team = self.name.split(\"-\")\n",
    "        return f\"Batting Team: {team[0]}\\nBowlingTeam: {team[1]}\\nTotal Runs: {self.run} Wickets: {self.wicket} Overs: {self.over}\"\n",
    "\n",
    "\n",
    "# Write your code here.\n",
    "match1 = Match(\"Rangpur Riders-Cumilla Victorians\")\n",
    "print(\"=========================\")\n",
    "match1.add_run(4)\n",
    "match1.add_run(6)\n",
    "match1.add_over(1)\n",
    "print(match1.print_scoreboard())\n",
    "print(\"=========================\")\n",
    "match1.add_over(5)\n",
    "print(\"=========================\")\n",
    "match1.add_wicket(1)\n",
    "print(match1.print_scoreboard())\n"
   ]
  },
  {
   "attachments": {},
   "cell_type": "markdown",
   "metadata": {},
   "source": [
    "**Task 08**"
   ]
  },
  {
   "cell_type": "code",
   "execution_count": 5,
   "metadata": {},
   "outputs": [
    {
     "name": "stdout",
     "output_type": "stream",
     "text": [
      "**********************\n",
      "Customer Name: No name set\n",
      "Product Weight: 0\n",
      "Total fee: 0\n",
      "**********************\n",
      "Customer Name: Bob The Builder\n",
      "Product Weight: 0\n",
      "Total fee: 0\n",
      "----------------------------\n",
      "Customer Name: Bob The Builder\n",
      "Product Weight: 15\n",
      "Total fee: 350\n",
      "**********************\n",
      "Customer Name: Dora The Explorer\n",
      "Product Weight: 10\n",
      "Total fee: 300\n"
     ]
    }
   ],
   "source": [
    "class ParcelKoro():\n",
    "    def __init__(self, name=\"No name set\", weight=0) -> None:\n",
    "        self.name = name\n",
    "        self.product_weight = weight\n",
    "    def calculateFee(self, place=None):\n",
    "        if self.product_weight == 0:\n",
    "            self.totalFee = 0\n",
    "        elif place == None:\n",
    "            self.totalFee = self.product_weight*20 + 50\n",
    "        else:\n",
    "            self.totalFee = self.product_weight*20 + 100\n",
    "    def printDetails(self):\n",
    "        print(f\"Customer Name: {self.name}\\nProduct Weight: {self.product_weight}\\nTotal fee: {self.totalFee}\")\n",
    "\n",
    "\n",
    "\n",
    "# Write your code here.\n",
    "print(\"**********************\")\n",
    "p1 = ParcelKoro()\n",
    "p1.calculateFee()\n",
    "p1.printDetails()\n",
    "print(\"**********************\")\n",
    "p2 = ParcelKoro('Bob The Builder')\n",
    "p2.calculateFee()\n",
    "p2.printDetails()\n",
    "print(\"----------------------------\")\n",
    "p2.product_weight = 15\n",
    "p2.calculateFee()\n",
    "p2.printDetails()\n",
    "print(\"**********************\")\n",
    "p3 = ParcelKoro('Dora The Explorer', 10)\n",
    "p3.calculateFee('Dhanmondi')\n",
    "p3.printDetails()\n"
   ]
  },
  {
   "attachments": {},
   "cell_type": "markdown",
   "metadata": {},
   "source": [
    "**Task 09**"
   ]
  },
  {
   "cell_type": "code",
   "execution_count": 21,
   "metadata": {},
   "outputs": [
    {
     "name": "stdout",
     "output_type": "stream",
     "text": [
      "Name: New Batsman\n",
      "Runs Socred: 6101,Balls Faced: 7380\n",
      "============================\n",
      "Name: Liton Das\n",
      "Runs Socred: 678,Balls Faced: 773\n",
      "----------------------------\n",
      "87.71021992238033\n",
      "============================\n",
      "Name: Shakib Al Hasan\n",
      "Runs Socred: 6101,Balls Faced: 7380\n",
      "----------------------------\n",
      "82.66937669376694\n"
     ]
    }
   ],
   "source": [
    "class Batsman():\n",
    "    def __init__(self,*info) -> None:\n",
    "        if len(info) == 2:\n",
    "            self.name = 'New Batsman'\n",
    "            self.run = info[0]\n",
    "            self.ball = info[1]   \n",
    "        else:\n",
    "            self.name = info[0]\n",
    "            self.run = info[1]\n",
    "            self.ball = info[2]  \n",
    "    def printCareerStatistics(self):\n",
    "        print(f\"Name: {self.name}\")\n",
    "        print(f\"Runs Socred: {self.run},Balls Faced: {self.ball}\")\n",
    "    def battingStrikeRate(self):\n",
    "        strike_rate = (self.run / self.ball) * 100\n",
    "        return strike_rate\n",
    "    def setName(self,name):\n",
    "        self.name = name\n",
    "\n",
    "\n",
    "        \n",
    "# Write your code here\n",
    "b1 = Batsman(6101, 7380)\n",
    "b1.printCareerStatistics()\n",
    "print(\"============================\")\n",
    "b2 = Batsman(\"Liton Das\", 678, 773)\n",
    "b2.printCareerStatistics()\n",
    "print(\"----------------------------\")\n",
    "print(b2.battingStrikeRate())\n",
    "print(\"============================\")\n",
    "b1.setName(\"Shakib Al Hasan\")\n",
    "b1.printCareerStatistics()\n",
    "print(\"----------------------------\")\n",
    "print(b1.battingStrikeRate())"
   ]
  },
  {
   "attachments": {},
   "cell_type": "markdown",
   "metadata": {},
   "source": [
    "**Task 10**"
   ]
  },
  {
   "cell_type": "code",
   "execution_count": 10,
   "metadata": {},
   "outputs": [
    {
     "name": "stdout",
     "output_type": "stream",
     "text": [
      "===================\n",
      "Name: Manchester United\n",
      "Song: Glory Glory Man United\n",
      "Total No of title: 0\n",
      "##################\n",
      "Name: Manchester United\n",
      "Song: Glory Glory Man United\n",
      "Total No of title: 1\n",
      "===================\n",
      "Name: Chelsea\n",
      "Song: No Slogan\n",
      "Total No of title: 0\n",
      "Name: Chelsea\n",
      "Song: Keep the blue flag flying high\n",
      "Total No of title: 0\n"
     ]
    }
   ],
   "source": [
    "class EPL_Team():\n",
    "    def __init__(self, club, song=\"No Slogan\"):\n",
    "        self.club = club\n",
    "        self.song = song\n",
    "        self.title = 0\n",
    "    def increaseTitle(self):\n",
    "        self.title += 1\n",
    "    def changeSong(self, song):\n",
    "        self.song = song\n",
    "    def showClubInfo(self):\n",
    "        return f\"Name: {self.club}\\nSong: {self.song}\\nTotal No of title: {self.title}\"\n",
    "\n",
    "\n",
    "\n",
    "# Write your code here\n",
    "manu = EPL_Team('Manchester United', 'Glory Glory Man United')\n",
    "chelsea = EPL_Team('Chelsea')\n",
    "print('===================')\n",
    "print(manu.showClubInfo())\n",
    "print('##################')\n",
    "manu.increaseTitle()\n",
    "print(manu.showClubInfo())\n",
    "print('===================')\n",
    "print(chelsea.showClubInfo())\n",
    "chelsea.changeSong('Keep the blue flag flying high')\n",
    "print(chelsea.showClubInfo())"
   ]
  },
  {
   "attachments": {},
   "cell_type": "markdown",
   "metadata": {},
   "source": [
    "**Task 11**"
   ]
  },
  {
   "cell_type": "code",
   "execution_count": 9,
   "metadata": {},
   "outputs": [
    {
     "name": "stdout",
     "output_type": "stream",
     "text": [
      "Author Name:  Deyal\n",
      "--------\n",
      "List of books: \n",
      "Deyal\n",
      "Megher Opor Bari\n",
      "===================\n",
      "Default\n",
      "===================\n",
      "Author Name:  The Godfather\n",
      "--------\n",
      "List of books: \n",
      "The Godfather\n",
      "Omerta\n",
      "The Sicilian\n",
      "===================\n",
      "Author Name:  Paolo Coelho\n",
      "--------\n",
      "List of books: \n",
      "Paolo Coelho\n",
      "The Alchemist\n",
      "The Fifth Mountain\n"
     ]
    }
   ],
   "source": [
    "class Author():\n",
    "    def __init__(self,*name):\n",
    "        if len(name) == 0:\n",
    "            self.name = \"Default\"\n",
    "        elif len(name) != 0:\n",
    "            self.name = name\n",
    "    def addBooks(self,*books):\n",
    "        self.name = books\n",
    "    def printDetails(self):\n",
    "        print(\"Author Name: \",self.name[0])\n",
    "        print(\"--------\")\n",
    "        print(\"List of books: \")\n",
    "        for i in range(len(self.name)):\n",
    "            print(self.name[i])\n",
    "    def changeName(self,name):\n",
    "        self.name = name\n",
    "\n",
    "\n",
    "# Write your code here\n",
    "\n",
    "auth1 = Author('Humayun Ahmed')\n",
    "auth1.addBooks('Deyal', 'Megher Opor Bari')\n",
    "auth1.printDetails()\n",
    "print(\"===================\")\n",
    "auth2 = Author()\n",
    "print(auth2.name)\n",
    "auth2.changeName('Mario Puzo')\n",
    "auth2.addBooks('The Godfather', 'Omerta', 'The Sicilian')\n",
    "print(\"===================\")\n",
    "auth2.printDetails()\n",
    "print(\"===================\")\n",
    "auth3 = Author('Paolo Coelho', 'The Alchemist', 'The Fifth Mountain')\n",
    "auth3.printDetails()\n"
   ]
  },
  {
   "attachments": {},
   "cell_type": "markdown",
   "metadata": {},
   "source": [
    "**Task 12**"
   ]
  },
  {
   "cell_type": "code",
   "execution_count": 24,
   "metadata": {},
   "outputs": [
    {
     "name": "stdout",
     "output_type": "stream",
     "text": [
      "-------------------------------\n",
      "Dear Walker_100! Welcome to TaxiLagbe.\n",
      "Dear Wood_200! Welcome to TaxiLagbe.\n",
      "Dear Matt_100! Welcome to TaxiLagbe.\n",
      "Dear Wilson_105! Welcome to TaxiLagbe.\n",
      "-------------------------------\n",
      "Trip for Taxi number: 1010-01\n",
      "This taxi can cover only Dhaka area.\n",
      "Total passengers: 4\n",
      "Passenger lists:\n",
      "Walker, Wood, Matt, Wilson\n",
      "Total collected fare: 505 taka\n",
      "-------------------------------\n",
      "Taxi Full! No more passengers can be added.\n",
      "-------------------------------\n",
      "Trip for Taxi number: 1010-01\n",
      "This taxi can cover only Dhaka area.\n",
      "Total passengers: 4\n",
      "Passenger lists:\n",
      "Walker, Wood, Matt, Wilson\n",
      "Total collected fare: 505 taka\n",
      "-------------------------------\n",
      "Dear Ronald_115! Welcome to TaxiLagbe.\n",
      "Dear Parker_215! Welcome to TaxiLagbe.\n",
      "-------------------------------\n",
      "Trip for Taxi number: 1010-02\n",
      "This taxi can cover only Dhaka area.\n",
      "Total passengers: 2\n",
      "Passenger lists:\n",
      "Ronald, Parker\n",
      "Total collected fare: 330 taka\n"
     ]
    }
   ],
   "source": [
    "class TaxiLagbe():\n",
    "    def __init__(self,code,place) -> None:\n",
    "        self.code = code\n",
    "        self.place = place\n",
    "        self.passenger = []\n",
    "    def addPassenger(self,*name):\n",
    "        count = 0\n",
    "        for i in name:\n",
    "            if len(self.passenger) < 4:\n",
    "                print(f\"Dear {i}! Welcome to TaxiLagbe.\")\n",
    "                self.passenger.append(i)\n",
    "                count += 1\n",
    "            else:\n",
    "                print(\"Taxi Full! No more passengers can be added.\")\n",
    "    def printDetails(self):\n",
    "        print(f\"Trip for Taxi number: {self.code}\\nThis taxi can cover only Dhaka area.\\nTotal passengers: {len(self.passenger)}\")\n",
    "        print(\"Passenger lists:\")\n",
    "        total = 0\n",
    "        totalPassenger = ''\n",
    "        for i in self.passenger:\n",
    "            passName,taka = i.split(\"_\")\n",
    "            total += int(taka)\n",
    "            totalPassenger += passName +\", \"\n",
    "        print(totalPassenger[:-2])\n",
    "        print(f\"Total collected fare: {total} taka\")\n",
    "\n",
    "\n",
    "# Write your code here\n",
    "# Do not change the following lines of code.\n",
    "\n",
    "taxi1 = TaxiLagbe('1010-01', 'Dhaka')\n",
    "print('-------------------------------')\n",
    "taxi1.addPassenger('Walker_100', 'Wood_200')\n",
    "taxi1.addPassenger('Matt_100')\n",
    "taxi1.addPassenger('Wilson_105')\n",
    "print('-------------------------------')\n",
    "taxi1.printDetails()\n",
    "print('-------------------------------')\n",
    "taxi1.addPassenger('Karen_200')\n",
    "print('-------------------------------')\n",
    "taxi1.printDetails()\n",
    "print('-------------------------------')\n",
    "taxi2 = TaxiLagbe('1010-02', 'Khulna')\n",
    "taxi2.addPassenger('Ronald_115')\n",
    "taxi2.addPassenger('Parker_215')\n",
    "print('-------------------------------')\n",
    "taxi2.printDetails()\n"
   ]
  },
  {
   "attachments": {},
   "cell_type": "markdown",
   "metadata": {},
   "source": [
    "**Task 13**"
   ]
  },
  {
   "cell_type": "code",
   "execution_count": 14,
   "metadata": {},
   "outputs": [
    {
     "name": "stdout",
     "output_type": "stream",
     "text": [
      "Default Account\n",
      "0.0\n",
      "------------------------\n",
      "Oliver\n",
      "10000.0\n",
      "------------------------\n",
      "Liam\n",
      "0.0\n",
      "------------------------\n",
      "Noah\n",
      "400\n",
      "------------------------\n",
      "Sorry, Withdraw unsuccessful! The account balance after deducting withdraw amount is equal to or less than minimum.\n",
      "------------------------\n",
      "Sorry, Withdraw unsuccessful! The account balance after deducting withdraw amount is equal to or less than minimum.\n",
      "------------------------\n",
      "Withdraw successful! New balance is: 3071.0\n"
     ]
    }
   ],
   "source": [
    "class Account():\n",
    "    def __init__(self,name = \"Default Account\",balance = 0.0):\n",
    "        self.name = name\n",
    "        self.balance = balance\n",
    "    def details(self):\n",
    "        return f\"{self.name}\\n{self.balance}\"\n",
    "    def withdraw(self,amount):\n",
    "        self.amount = amount\n",
    "        if self.balance == 0:\n",
    "            print(\"Sorry, Withdraw unsuccessful! The account balance after deducting withdraw amount is equal to or less than minimum.\")\n",
    "        elif self.balance-amount < 3071.0:\n",
    "            print(\"Sorry, Withdraw unsuccessful! The account balance after deducting withdraw amount is equal to or less than minimum.\")\n",
    "        else:\n",
    "            print(f\"Withdraw successful! New balance is: {self.balance-amount}\")\n",
    "\n",
    "# Write your code here\n",
    "\n",
    "a1 = Account()\n",
    "print(a1.details())\n",
    "print(\"------------------------\")\n",
    "a1.name = \"Oliver\"\n",
    "a1.balance = 10000.0\n",
    "print(a1.details())\n",
    "print(\"------------------------\")\n",
    "a2 = Account(\"Liam\")\n",
    "print(a2.details())\n",
    "print(\"------------------------\")\n",
    "a3 = Account(\"Noah\",400)\n",
    "print(a3.details())\n",
    "print(\"------------------------\")\n",
    "a1.withdraw(6930)\n",
    "print(\"------------------------\")\n",
    "a2.withdraw(600)\n",
    "print(\"------------------------\")\n",
    "a1.withdraw(6929)\n"
   ]
  },
  {
   "attachments": {},
   "cell_type": "markdown",
   "metadata": {},
   "source": [
    "**Task 14**"
   ]
  },
  {
   "cell_type": "code",
   "execution_count": 1,
   "metadata": {},
   "outputs": [
    {
     "name": "stdout",
     "output_type": "stream",
     "text": [
      "Grades for Pietro\n",
      "{'Summer2020': {('CSE230', 'CSE220', 'MAT110'): 4.0}, 'Summer2021': {('CSE250', 'CSE330'): 3.85}}\n",
      "------------------------------------------------------\n",
      "Name: Pietro\n",
      "ID: 10101222\n",
      "Courses taken in Summer2020\n",
      "CSE230\n",
      "CSE220\n",
      "MAT110\n",
      "GPA: 4.0\n",
      "Courses taken in Summer2021\n",
      "CSE250\n",
      "CSE330\n",
      "GPA: 3.85\n",
      "------------------------------------------------------\n",
      "Grades for Wanda\n",
      "{'Summer2022': {('CSE111', 'CSE260', 'ENG101'): 3.8000000000000003}}\n",
      "------------------------------------------------------\n",
      "Name: Wanda\n",
      "ID: 10103332\n",
      "Courses taken in Summer2022\n",
      "CSE111\n",
      "CSE260\n",
      "ENG101\n",
      "GPA: 3.8000000000000003\n"
     ]
    }
   ],
   "source": [
    "class StudentDatabase():\n",
    "    def __init__(self,name,id):\n",
    "        self.name = name\n",
    "        self.id = id\n",
    "        self.grades = {}\n",
    "        self.gpa = 0\n",
    "    def calculateGPA(self,courses,semester):\n",
    "        myDict = {}\n",
    "        myList = []\n",
    "        self.totalGrade = 0\n",
    "        for i in courses:\n",
    "            course,val = i.split(\":\")\n",
    "            myList.append(course)\n",
    "            self.totalGrade += float(val)\n",
    "\n",
    "        self.grades[semester] = {tuple(myList):self.totalGrade/len(myList)}\n",
    "        # print(self.grades)\n",
    "    def printDetails(self):\n",
    "        print(f\"Name: {self.name}\\nID: {self.id}\")\n",
    "        for key, val in self.grades.items():\n",
    "          print(f\"Courses taken in {key}\")\n",
    "          for i,j in val.items():\n",
    "            for k in i:\n",
    "              print(k)\n",
    "            print(f\"GPA: {j}\")\n",
    "# Write your code here\n",
    "\n",
    "# Do not change the following lines of code.\n",
    "\n",
    "s1 = StudentDatabase('Pietro', '10101222')\n",
    "s1.calculateGPA(['CSE230: 4.0', 'CSE220: 4.0', 'MAT110: 4.0'], 'Summer2020')\n",
    "s1.calculateGPA(['CSE250: 3.7', 'CSE330: 4.0'], 'Summer2021')\n",
    "print(f'Grades for {s1.name}\\n{s1.grades}')\n",
    "print('------------------------------------------------------')\n",
    "s1.printDetails()\n",
    "s2 = StudentDatabase('Wanda', '10103332')\n",
    "s2.calculateGPA(['CSE111: 3.7', 'CSE260: 3.7', 'ENG101: 4.0'], 'Summer2022')\n",
    "print('------------------------------------------------------')\n",
    "print(f'Grades for {s2.name}\\n{s2.grades}')\n",
    "print('------------------------------------------------------')\n",
    "s2.printDetails()\n"
   ]
  },
  {
   "attachments": {},
   "cell_type": "markdown",
   "metadata": {},
   "source": [
    "**Task 15**"
   ]
  },
  {
   "cell_type": "code",
   "execution_count": 9,
   "metadata": {},
   "outputs": [
    {
     "name": "stdout",
     "output_type": "stream",
     "text": [
      "2 4 7\n",
      "7 10 24\n",
      "11 4 39\n",
      "13 16 68\n",
      "17 10 95\n"
     ]
    }
   ],
   "source": [
    "class FinalT6A:\n",
    "    def __init__(self, x, p):\n",
    "        self.temp, self.sum, self.y = 4, 0, 1\n",
    "        self.temp += 1\n",
    "        self.y = self.temp - p\n",
    "        self.sum = self.temp + x\n",
    "        print(x, self.y, self.sum)\n",
    "    def methodA(self):\n",
    "        x = 0\n",
    "        y = 0\n",
    "        y = y + self.y\n",
    "        x = self.y + 2 + self.temp\n",
    "        self.sum = x + y + self.methodB(self.temp, y)\n",
    "        print(x, y, self.sum)\n",
    "    def methodB(self, temp, n):\n",
    "        x = 0\n",
    "        temp += 1\n",
    "        self.y = self.y + temp\n",
    "        x = x + 3 + n\n",
    "        self.sum = self.sum + x + self.y\n",
    "        print(x, self.y, self.sum)\n",
    "        return self.sum\n",
    "\n",
    "q1 = FinalT6A(2,1)\n",
    "q1.methodA()\n",
    "q1.methodA()\n"
   ]
  },
  {
   "attachments": {},
   "cell_type": "markdown",
   "metadata": {},
   "source": [
    "**Task 16**"
   ]
  },
  {
   "cell_type": "code",
   "execution_count": 10,
   "metadata": {},
   "outputs": [
    {
     "name": "stdout",
     "output_type": "stream",
     "text": [
      "4 11 20\n",
      "6 15 29\n",
      "3 21 44\n",
      "5 23 57\n"
     ]
    },
    {
     "data": {
      "text/plain": [
       "57"
      ]
     },
     "execution_count": 10,
     "metadata": {},
     "output_type": "execute_result"
    }
   ],
   "source": [
    "class Quiz3A:\n",
    "    def __init__(self, k = None):\n",
    "        self.temp, self.sum, self.y = 4, 0, 0\n",
    "        if k != None:\n",
    "            self.temp += 1\n",
    "            self.temp = self.temp\n",
    "            self.sum = self.temp + k\n",
    "            self.y = self.sum - 1\n",
    "        else:\n",
    "            self.y = self.temp - 1\n",
    "            self.sum = self.temp + 1\n",
    "            self.temp += 2    \n",
    "    def methodB(self, m, n):\n",
    "        x = 0\n",
    "        self.temp += 1\n",
    "        self.y = self.y + m + (self.temp)\n",
    "        x = x + 2 + n\n",
    "        self.sum = self.sum + x + self.y\n",
    "        print(x, self.y, self.sum)\n",
    "        return self.sum\n",
    "\n",
    "a1 = Quiz3A()\n",
    "a1.methodB(1,2)\n",
    "a2 = Quiz3A(3)\n",
    "a2.methodB(2,4)\n",
    "a1.methodB(2,1)\n",
    "a2.methodB(1,3)\n"
   ]
  },
  {
   "attachments": {},
   "cell_type": "markdown",
   "metadata": {},
   "source": [
    "**Task 17**"
   ]
  },
  {
   "cell_type": "code",
   "execution_count": 11,
   "metadata": {},
   "outputs": [
    {
     "name": "stdout",
     "output_type": "stream",
     "text": [
      "3   5   8\n",
      "10   5   20\n",
      "4   10   34\n",
      "17   10   38\n",
      "3   15   56\n",
      "10   5   30\n",
      "4   30   64\n",
      "27   20   78\n",
      "3   35   116\n",
      "10   5   50\n",
      "4   70   124\n",
      "47   40   158\n"
     ]
    }
   ],
   "source": [
    "class Test5:\n",
    "  def __init__(self):\n",
    "      self.sum = 0\n",
    "      self.y = 0\n",
    "  def methodA(self):   \n",
    "      x=y=k=0\n",
    "      msg = [5]  \n",
    "      while (k < 2):\n",
    "          y += msg[0]     \n",
    "          x = y + self.methodB(msg, k)\n",
    "          self.sum = x + y + msg[0]\n",
    "          print(x ,\" \" , y, \" \" , self.sum)\n",
    "          k+=1 \n",
    "  def methodB(self, mg2, mg1):\n",
    "        x = 0\n",
    "        self.y += mg2[0]\n",
    "        x = x + 3 + mg1\n",
    "        self.sum += x + self.y\n",
    "        mg2[0] = self.y + mg1\n",
    "        mg1 += x + 2\n",
    "        print(x , \" \" ,self.y, \" \" , self.sum)\n",
    "        return mg1\n",
    "\n",
    "t1 = Test5()\n",
    "t1.methodA()\n",
    "t1.methodA()\n",
    "t1.methodA()"
   ]
  },
  {
   "attachments": {},
   "cell_type": "markdown",
   "metadata": {},
   "source": [
    "**Task 18**"
   ]
  },
  {
   "cell_type": "code",
   "execution_count": 12,
   "metadata": {},
   "outputs": [
    {
     "name": "stdout",
     "output_type": "stream",
     "text": [
      "38 5 43\n",
      "38 50 131\n",
      "136 5 196\n",
      "38 5 239\n",
      "38 50 327\n",
      "332 5 392\n",
      "38 5 435\n",
      "38 50 523\n",
      "528 5 588\n",
      "38 5 631\n",
      "38 50 719\n",
      "724 5 784\n"
     ]
    }
   ],
   "source": [
    "class Test4:\n",
    "    def __init__(self):\n",
    "        self.sum, self.y = 0, 0\n",
    "    def methodA(self):\n",
    "        x, y = 0, 0\n",
    "        msg = [0]\n",
    "        msg[0] = 5\n",
    "        y = y + self.methodB(msg[0])\n",
    "        x = y + self.methodB(msg, msg[0])\n",
    "        self.sum = x + y + msg[0]\n",
    "        print(x, y, self.sum)\n",
    "    def methodB(self, *args):\n",
    "        if len(args) == 1:\n",
    "            mg1 = args[0]\n",
    "            x, y = 0, 0\n",
    "            y = y + mg1\n",
    "            x = x + 33 + mg1\n",
    "            self.sum = self.sum + x + y\n",
    "            self.y = mg1 + x + 2\n",
    "            print(x, y, self.sum)\n",
    "            return y\n",
    "        else:\n",
    "            mg2, mg1 = args\n",
    "            x = 0\n",
    "            self.y = self.y + mg2[0]\n",
    "            x = x + 33 + mg1\n",
    "            self.sum = self.sum + x + self.y\n",
    "            mg2[0] = self.y + mg1\n",
    "            mg1 = mg1 + x + 2\n",
    "            print(x, self.y, self.sum)\n",
    "            return self.sum\n",
    "\n",
    "t3 = Test4()\n",
    "t3.methodA()\n",
    "t3.methodA()\n",
    "t3.methodA()\n",
    "t3.methodA()\n"
   ]
  },
  {
   "attachments": {},
   "cell_type": "markdown",
   "metadata": {},
   "source": [
    "**Task 19**"
   ]
  },
  {
   "cell_type": "code",
   "execution_count": 2,
   "metadata": {},
   "outputs": [
    {
     "name": "stdout",
     "output_type": "stream",
     "text": [
      "14   6   21\n",
      "39   26   86\n",
      "52   36   168\n",
      "225   57   409\n"
     ]
    }
   ],
   "source": [
    "class msgClass:\n",
    "    def __init__(self):\n",
    "        self.content = 0 \n",
    "class Q5:\n",
    "    def __init__(self):\n",
    "        self.sum = 1\n",
    "        self.x = 2\n",
    "        self.y = 3 \n",
    "    def methodA(self):\n",
    "        x, y = 1, 1\n",
    "        msg = []\n",
    "        myMsg = msgClass()\n",
    "        myMsg.content = self.x\n",
    "        msg.append(myMsg)\n",
    "        msg[0].content = self.y + myMsg.content\n",
    "        self.y = self.y + self.methodB(msg[0])\n",
    "        y = self.methodB(msg[0]) + self.y\n",
    "        x = y + self.methodB(msg[0], msg)\n",
    "        self.sum = x + y + msg[0].content\n",
    "        print(x,\" \", y,\" \", self.sum)    \n",
    "    def methodB(self, mg1, mg2 = None):\n",
    "        if mg2 == None:\n",
    "            x, y = 5, 6\n",
    "            y = self.sum + mg1.content\n",
    "            self.y = y + mg1.content\n",
    "            x = self.x + 7 +mg1.content\n",
    "            self.sum = self.sum + x + y\n",
    "            self.x = mg1.content + x +8\n",
    "            print(x, \" \", y,\" \", self.sum)\n",
    "            return y\n",
    "        else:\n",
    "            x = 1\n",
    "            self.y += mg2[0].content\n",
    "            mg2[0].content = self.y + mg1.content\n",
    "            x = x + 4 + mg1.content\n",
    "            self.sum += x + self.y\n",
    "            mg1.content = self.sum - mg2[0].content\n",
    "            print(self.x, \" \",self.y,\" \", self.sum)\n",
    "            return self.sum\n",
    "\n",
    "q = Q5()\n",
    "q.methodA()\n"
   ]
  },
  {
   "attachments": {},
   "cell_type": "markdown",
   "metadata": {},
   "source": [
    "**Task 20**"
   ]
  },
  {
   "cell_type": "code",
   "execution_count": null,
   "metadata": {},
   "outputs": [],
   "source": []
  },
  {
   "attachments": {},
   "cell_type": "markdown",
   "metadata": {},
   "source": [
    "**Task 21**"
   ]
  },
  {
   "cell_type": "code",
   "execution_count": null,
   "metadata": {},
   "outputs": [],
   "source": []
  },
  {
   "attachments": {},
   "cell_type": "markdown",
   "metadata": {},
   "source": [
    "**Task 22**"
   ]
  },
  {
   "cell_type": "code",
   "execution_count": null,
   "metadata": {},
   "outputs": [],
   "source": []
  },
  {
   "attachments": {},
   "cell_type": "markdown",
   "metadata": {},
   "source": [
    "**Task 23**"
   ]
  },
  {
   "cell_type": "code",
   "execution_count": null,
   "metadata": {},
   "outputs": [],
   "source": []
  },
  {
   "attachments": {},
   "cell_type": "markdown",
   "metadata": {},
   "source": [
    "**Task 24**"
   ]
  },
  {
   "cell_type": "code",
   "execution_count": null,
   "metadata": {},
   "outputs": [],
   "source": []
  },
  {
   "attachments": {},
   "cell_type": "markdown",
   "metadata": {},
   "source": [
    "**Task 25**"
   ]
  },
  {
   "cell_type": "code",
   "execution_count": null,
   "metadata": {},
   "outputs": [],
   "source": []
  }
 ],
 "metadata": {
  "kernelspec": {
   "display_name": "Python 3",
   "language": "python",
   "name": "python3"
  },
  "language_info": {
   "codemirror_mode": {
    "name": "ipython",
    "version": 3
   },
   "file_extension": ".py",
   "mimetype": "text/x-python",
   "name": "python",
   "nbconvert_exporter": "python",
   "pygments_lexer": "ipython3",
   "version": "3.10.7"
  },
  "orig_nbformat": 4,
  "vscode": {
   "interpreter": {
    "hash": "45446571a1dd78e2e32e7d307011dd88be5012a536fa99b069f150ccdbbf577b"
   }
  }
 },
 "nbformat": 4,
 "nbformat_minor": 2
}
