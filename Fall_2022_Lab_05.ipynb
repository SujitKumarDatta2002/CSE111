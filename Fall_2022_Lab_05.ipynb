{
 "cells": [
  {
   "attachments": {},
   "cell_type": "markdown",
   "metadata": {},
   "source": [
    "**Task 01**"
   ]
  },
  {
   "cell_type": "code",
   "execution_count": 3,
   "metadata": {},
   "outputs": [
    {
     "name": "stdout",
     "output_type": "stream",
     "text": [
      "Total marks: 100\n"
     ]
    }
   ],
   "source": [
    "class Exam():\n",
    "    def __init__(self,mark) -> None:\n",
    "        self.mark = mark\n",
    "    def __add__(self, other):\n",
    "        return Exam(self.mark+other.mark)\n",
    "    def __str__(self):\n",
    "        return str(self.mark)\n",
    "\n",
    "#Write your code here\n",
    "\n",
    "#Do not change the following lines of code    \n",
    "Q1 = Exam(int(input(\"Quiz 1 (out of 10): \")))\n",
    "Q2 = Exam(int(input(\"Quiz 2 (out of 10): \")))\n",
    "Lab = Exam(int(input(\"Lab (out of 30): \")))\n",
    "Mid = Exam(int(input(\"Mid (out of 20): \")))\n",
    "Final = Exam(int(input(\"Final (out of 30): \")))\n",
    "total = Q1 + Q2 + Lab + Mid + Final\n",
    "print(\"Total marks: {}\".format(total.mark))\n"
   ]
  },
  {
   "attachments": {},
   "cell_type": "markdown",
   "metadata": {},
   "source": [
    "**Task 02**"
   ]
  },
  {
   "cell_type": "code",
   "execution_count": 7,
   "metadata": {},
   "outputs": [
    {
     "name": "stdout",
     "output_type": "stream",
     "text": [
      "====================================\n",
      "Name: Saad Abdullah\n",
      "Department: CSE\n",
      "List of courses\n",
      "CSE 110 Programming Language I\n",
      "CSE 111 Programming Language-II\n",
      "====================================\n",
      "====================================\n",
      "Name: Mumit Khan\n",
      "Department: CSE\n",
      "List of courses\n",
      "CSE 220 Data Structures\n",
      "CSE 221 Algorithms\n",
      "CCSE 230 Discrete Mathematics\n",
      "====================================\n",
      "====================================\n",
      "Name: Sadia Kazi\n",
      "Department: CSE\n",
      "List of courses\n",
      "CSE 310 Object Oriented Programming\n",
      "CSE 320 Data Communications\n",
      "CSE 340 Computer Architecture\n",
      "====================================\n"
     ]
    }
   ],
   "source": [
    "class Teacher():\n",
    "    def __init__(self, name, dept) -> None:\n",
    "        self.name = name\n",
    "        self.dept = dept\n",
    "        self.course = [] \n",
    "    def addCourse(self, sub):\n",
    "        self.course.append(sub.course)\n",
    "    def printDetail(self):\n",
    "        print(\"====================================\")\n",
    "        print(f\"Name: {self.name}\\nDepartment: {self.dept}\\nList of courses\")\n",
    "        for i in self.course:\n",
    "            print(i)\n",
    "        print(\"====================================\")\n",
    "        \n",
    "class Course():\n",
    "    def __init__(self, title) -> None:\n",
    "        self.course = title\n",
    "\n",
    "\n",
    "# Write your code here for subtasks 1-4\n",
    "t1 = Teacher(\"Saad Abdullah\", \"CSE\")\n",
    "t2 = Teacher(\"Mumit Khan\", \"CSE\")\n",
    "t3 = Teacher(\"Sadia Kazi\", \"CSE\")                          \n",
    "c1 = Course(\"CSE 110 Programming Language I\")                           \n",
    "c2 = Course(\"CSE 111 Programming Language-II\")                           \n",
    "c3 = Course(\"CSE 220 Data Structures\")                           \n",
    "c4 = Course(\"CSE 221 Algorithms\")                           \n",
    "c5 = Course(\"CCSE 230 Discrete Mathematics\")                           \n",
    "c6 = Course(\"CSE 310 Object Oriented Programming\")                           \n",
    "c7 = Course(\"CSE 320 Data Communications\")                          \n",
    "c8 = Course(\"CSE 340 Computer Architecture\") \n",
    "t1.addCourse(c1)\n",
    "t1.addCourse(c2)\n",
    "t2.addCourse(c3)\n",
    "t2.addCourse(c4)\n",
    "t2.addCourse(c5)\n",
    "t3.addCourse(c6)\n",
    "t3.addCourse(c7)\n",
    "t3.addCourse(c8)\n",
    "t1.printDetail()\n",
    "t2.printDetail()\n",
    "t3.printDetail()\n"
   ]
  },
  {
   "attachments": {},
   "cell_type": "markdown",
   "metadata": {},
   "source": [
    "**Task 03**"
   ]
  },
  {
   "cell_type": "code",
   "execution_count": 18,
   "metadata": {},
   "outputs": [
    {
     "name": "stdout",
     "output_type": "stream",
     "text": [
      "=====================\n",
      "Team: Bangladesh\n",
      " List of Players: \n",
      " ['Mashrafi', 'Tamim']\n",
      "=====================\n",
      "=====================\n",
      "Team: Australia\n",
      " List of Players: \n",
      " ['Ponting', 'Lee']\n",
      "=====================\n"
     ]
    }
   ],
   "source": [
    "class Team():\n",
    "    def __init__(self, name = None) -> None:\n",
    "        self.name = name\n",
    "        self.player = []\n",
    "    def setName(self, name):\n",
    "        if self.name == None:\n",
    "            self.name = name\n",
    "    def addPlayer(self, name):\n",
    "        self.player.append(name.player)\n",
    "    def printDetail(self):\n",
    "        print(\"=====================\")\n",
    "        print(f\"Team: {self.name}\\n List of Players: \\n {self.player}\")\n",
    "        print(\"=====================\")\n",
    "\n",
    "\n",
    "\n",
    "class Player():\n",
    "    def __init__(self, pName) -> None:\n",
    "        self.player = pName\n",
    "\n",
    "\n",
    "# Write your code here for subtasks 1-4\n",
    "    \n",
    "b = Team()\n",
    "b.setName('Bangladesh')\n",
    "mashrafi = Player(\"Mashrafi\")\n",
    "b.addPlayer(mashrafi)\n",
    "tamim = Player(\"Tamim\")\n",
    "b.addPlayer(tamim)\n",
    "b.printDetail()\n",
    "a = Team(\"Australia\")\n",
    "ponting = Player(\"Ponting\")\n",
    "a.addPlayer(ponting)\n",
    "lee = Player(\"Lee\")\n",
    "a.addPlayer(lee)\n",
    "a.printDetail()\n"
   ]
  },
  {
   "attachments": {},
   "cell_type": "markdown",
   "metadata": {},
   "source": [
    "**Task 04**"
   ]
  },
  {
   "cell_type": "code",
   "execution_count": 16,
   "metadata": {},
   "outputs": [
    {
     "name": "stdout",
     "output_type": "stream",
     "text": [
      "Color formed: Orange\n"
     ]
    }
   ],
   "source": [
    "class Color():\n",
    "    def __init__(self, color) -> None:\n",
    "        self.clr = color\n",
    "    def __add__(self, other):\n",
    "        self.clr = self.clr + other.clr\n",
    "\n",
    "        if self.clr == \"redyellow\" or self.clr == \"yellowred\":\n",
    "            self.clr = \"Orange\"\n",
    "        elif self.clr == \"redblue\" or self.clr == \"bluered\":\n",
    "            self.clr = \"Violet\"\n",
    "        elif self.clr == \"yellowblue\" or self.clr == \"blueyellow\":\n",
    "            self.clr = \"Green\"\n",
    "\n",
    "        return Color(self.clr)\n",
    "\n",
    "\n",
    "#Write your code here\n",
    "\n",
    "#Do not change the following lines of code    \n",
    "    \n",
    "C1 = Color(input(\"First Color: \").lower())\n",
    "C2 = Color(input(\"Second Color: \").lower())\n",
    "C3 = C1 + C2\n",
    "print(\"Color formed:\", C3.clr)\n"
   ]
  },
  {
   "attachments": {},
   "cell_type": "markdown",
   "metadata": {},
   "source": [
    "**Task 05**"
   ]
  },
  {
   "cell_type": "code",
   "execution_count": 1,
   "metadata": {},
   "outputs": [
    {
     "name": "stdout",
     "output_type": "stream",
     "text": [
      "First circle radius: 4\n",
      "First circle area: 50.26548245743669\n",
      "Second circle radius: 5\n",
      "Second circle area: 78.53981633974483\n",
      "Third circle radius: 9\n",
      "Third circle area: 254.46900494077323\n"
     ]
    }
   ],
   "source": [
    "import math\n",
    "class Circle():\n",
    "    def __init__(self, r) -> None:\n",
    "        self.radius = r\n",
    "    def getRadius(self):\n",
    "        return self.radius\n",
    "    def setRadius(self, r):\n",
    "        self.radius = r\n",
    "        return self.radius\n",
    "    def area(self):\n",
    "        self.area = math.pi * self.radius * self.radius\n",
    "        return self.area\n",
    "    def __add__(self, other):\n",
    "        return Circle(self.radius + other.radius)\n",
    "\n",
    "\n",
    "\n",
    "# Write your code here for subtasks 1-5\n",
    "    \n",
    "c1 = Circle(4)\n",
    "print(\"First circle radius:\" , c1.getRadius())\n",
    "print(\"First circle area:\" , c1.area())\n",
    "\n",
    "\n",
    "c2 = Circle(5)\n",
    "print(\"Second circle radius:\" , c2.getRadius())\n",
    "print(\"Second circle area:\" , c2.area())\n",
    "\n",
    "\n",
    "c3 = c1 + c2 \n",
    "print(\"Third circle radius:\" , c3.getRadius())\n",
    "print(\"Third circle area:\" , c3.area())\n"
   ]
  },
  {
   "attachments": {},
   "cell_type": "markdown",
   "metadata": {},
   "source": [
    "**Task 06**"
   ]
  },
  {
   "cell_type": "code",
   "execution_count": 3,
   "metadata": {},
   "outputs": [
    {
     "name": "stdout",
     "output_type": "stream",
     "text": [
      "First Triangle Base: 10\n",
      "First Triangle Height: 5\n",
      "First Triangle area: 25.0\n",
      "Second Triangle Base: 5\n",
      "Second Triangle Height: 3\n",
      "Second Triangle area: 7.5\n",
      "Third Triangle Base: 5\n",
      "Third Triangle Height: 2\n",
      "Third Triangle area: 5.0\n"
     ]
    }
   ],
   "source": [
    "class Triangle():\n",
    "    def __init__(self, base, height) -> None:\n",
    "        self.base = base\n",
    "        self.height = height\n",
    "    def getBase(self):\n",
    "        return self.base\n",
    "    def getHeight(self):\n",
    "        return self.height\n",
    "    def setBase(self, base):\n",
    "        self.base = base\n",
    "        return self.base\n",
    "    def setBase(self, height):\n",
    "        self.height = height\n",
    "        return self.height\n",
    "    def area(self):\n",
    "        area = 0.5 * self.base * self.height\n",
    "        return area\n",
    "    def __sub__(self, other):\n",
    "        self.newBase = self.base - other.base\n",
    "        self.newHeight = self.height - other.height\n",
    "        return Triangle(self.newBase, self.newHeight)\n",
    "\n",
    "# Write your code here for subtasks 1-5\n",
    "    \n",
    "t1 = Triangle(10, 5)\n",
    "print(\"First Triangle Base:\" , t1.getBase())\n",
    "print(\"First Triangle Height:\" , t1.getHeight())\n",
    "print(\"First Triangle area:\" ,t1.area())\n",
    "\n",
    "\n",
    "t2 = Triangle(5, 3)\n",
    "print(\"Second Triangle Base:\" , t2.getBase())\n",
    "print(\"Second Triangle Height:\" , t2.getHeight())\n",
    "print(\"Second Triangle area:\" ,t2.area())\n",
    "\n",
    "\n",
    "t3 = t1 - t2 \n",
    "print(\"Third Triangle Base:\" , t3.getBase())\n",
    "print(\"Third Triangle Height:\" , t3.getHeight())\n",
    "print(\"Third Triangle area:\" ,t3.area()) \n"
   ]
  },
  {
   "attachments": {},
   "cell_type": "markdown",
   "metadata": {},
   "source": [
    "**Task 07**"
   ]
  },
  {
   "cell_type": "code",
   "execution_count": 9,
   "metadata": {},
   "outputs": [
    {
     "name": "stdout",
     "output_type": "stream",
     "text": [
      "Doll: Tweety \n",
      "Total price: 2500 taka\n",
      "Thank you!\n",
      "=========================\n",
      "Doll: Daffy Duck \n",
      "Total price: 1800 taka\n",
      "Thank you!\n",
      "=========================\n",
      "Doll: Bugs Bunny \n",
      "Total price: 3000 taka\n",
      "Congratulations! You get the Tweety as a gift!\n",
      "=========================\n",
      "Doll: Porky Pig \n",
      "Total price: 1500 taka\n",
      "Thank you!\n",
      "=========================\n",
      "Dolls: Daffy DuckBugs Bunny \n",
      "Total price: 4800 taka\n",
      "Congratulations! You get the Tweety as a gift!\n"
     ]
    }
   ],
   "source": [
    "class Dolls():\n",
    "    def __init__(self, name, price):\n",
    "        self.name = name\n",
    "        self.price = price\n",
    "    def detail(self):\n",
    "        lst = self.name.split()\n",
    "        if len(lst) <= 2:\n",
    "            return f\"Doll: {self.name} \\nTotal price: {str(self.price)} taka\"\n",
    "        else:\n",
    "            return f\"Dolls: {self.name} \\nTotal price: {str(self.price)} taka\"\n",
    "    def __gt__(self, other):\n",
    "        if self.price > other.price:\n",
    "            return True\n",
    "        else:\n",
    "            return False\n",
    "    def __add__(self, other):\n",
    "        self.newName = self.name + other.name\n",
    "        self.newPrice = self.price + other.price\n",
    "        return Dolls(self.newName, self.newPrice)\n",
    "\n",
    "# Write your code here\n",
    "\n",
    "obj_1 = Dolls(\"Tweety\", 2500)\n",
    "print(obj_1.detail())\n",
    "if obj_1 > obj_1:\n",
    "    print(\"Congratulations! You get the Tweety as a gift!\")\n",
    "else:\n",
    "    print(\"Thank you!\")\n",
    "\n",
    "print(\"=========================\")\n",
    "obj_2 = Dolls(\"Daffy Duck\", 1800) \n",
    "print(obj_2.detail())\n",
    "if obj_2 > obj_1:\n",
    "    print(\"Congratulations! You get the Tweety as a gift!\")\n",
    "else:\n",
    "    print(\"Thank you!\")\n",
    "\n",
    "print(\"=========================\")\n",
    "obj_3 = Dolls(\"Bugs Bunny\", 3000)\n",
    "print(obj_3.detail())\n",
    "if obj_3 > obj_1:\n",
    "    print(\"Congratulations! You get the Tweety as a gift!\")\n",
    "else:\n",
    "    print(\"Thank you!\")\n",
    "\n",
    "print(\"=========================\")\n",
    "obj_4 = Dolls(\"Porky Pig\", 1500)\n",
    "print(obj_4.detail())\n",
    "if obj_4 > obj_1:\n",
    "    print(\"Congratulations! You get the Tweety as a gift!\")\n",
    "else:\n",
    "    print(\"Thank you!\")\n",
    "\n",
    "print(\"=========================\")\n",
    "obj_5 = obj_2 + obj_3\n",
    "print(obj_5.detail())\n",
    "if obj_5 > obj_1:\n",
    "    print(\"Congratulations! You get the Tweety as a gift!\")\n",
    "else:\n",
    "    print(\"Thank you!\")\n"
   ]
  },
  {
   "attachments": {},
   "cell_type": "markdown",
   "metadata": {},
   "source": [
    "**Task 08**"
   ]
  },
  {
   "cell_type": "code",
   "execution_count": 5,
   "metadata": {},
   "outputs": [
    {
     "name": "stdout",
     "output_type": "stream",
     "text": [
      "(0, 0)\n",
      "(0, 0)\n",
      "The calculated coordinates are the same.\n"
     ]
    }
   ],
   "source": [
    "class Coordinates():\n",
    "    def __init__(self, x, y) -> None:\n",
    "        self.x = x\n",
    "        self.y = y\n",
    "    def detail(self):\n",
    "        return (self.x, self.y)\n",
    "    def __sub__(self, other):\n",
    "        self.newX = self.x - other.x\n",
    "        self.newY = self.y - other.y\n",
    "        return Coordinates(self.newX, self.newY)\n",
    "    def __mul__(self, other):\n",
    "        self.newX = self.x * other.x\n",
    "        self.newY = self.y * other.y\n",
    "        return Coordinates(self.newX, self.newY)     \n",
    "    def __eq__(self, other) -> bool:\n",
    "        if self.x == other.x:\n",
    "            return \"The calculated coordinates are the same.\"\n",
    "        else:\n",
    "            return \"The calculated coordinates are NOT the same.\"\n",
    "\n",
    "\n",
    "#Write your code here\n",
    "\n",
    "#Do not change the following lines of code \n",
    "\n",
    "p1 = Coordinates(int(input()),int(input()))\n",
    "p2 = Coordinates(int(input()),int(input()))\n",
    "\n",
    "p4 = p1 - p2 \n",
    "print(p4.detail())\n",
    "\n",
    "p5 = p1 * p2\n",
    "print(p5.detail())\n",
    "\n",
    "point_check = (p4 == p5)\n",
    "print(point_check)\n"
   ]
  }
 ],
 "metadata": {
  "kernelspec": {
   "display_name": "Python 3",
   "language": "python",
   "name": "python3"
  },
  "language_info": {
   "codemirror_mode": {
    "name": "ipython",
    "version": 3
   },
   "file_extension": ".py",
   "mimetype": "text/x-python",
   "name": "python",
   "nbconvert_exporter": "python",
   "pygments_lexer": "ipython3",
   "version": "3.10.7"
  },
  "orig_nbformat": 4,
  "vscode": {
   "interpreter": {
    "hash": "45446571a1dd78e2e32e7d307011dd88be5012a536fa99b069f150ccdbbf577b"
   }
  }
 },
 "nbformat": 4,
 "nbformat_minor": 2
}
